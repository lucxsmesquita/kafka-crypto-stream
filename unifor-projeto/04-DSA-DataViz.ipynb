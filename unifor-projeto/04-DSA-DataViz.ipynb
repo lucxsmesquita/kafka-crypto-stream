{
 "cells": [
  {
   "cell_type": "code",
   "execution_count": 1,
   "id": "2845061c",
   "metadata": {},
   "outputs": [],
   "source": [
    "!pip install -q watermark"
   ]
  },
  {
   "cell_type": "code",
   "execution_count": 2,
   "id": "f1b5a264-fa05-4185-a0dd-7710f9d3344f",
   "metadata": {},
   "outputs": [],
   "source": [
    "# Imports\n",
    "import pandas as pd\n",
    "import matplotlib.pyplot as plt\n",
    "import seaborn as sns\n",
    "import kafka\n",
    "import pymongo\n",
    "import streamlit\n",
    "import os\n",
    "from pymongo import MongoClient\n",
    "from configparser import RawConfigParser\n",
    "import warnings\n",
    "warnings.filterwarnings('ignore')"
   ]
  },
  {
   "cell_type": "code",
   "execution_count": 4,
   "id": "47d6e3f3-8e66-4c78-b4c0-3ae409f46a75",
   "metadata": {},
   "outputs": [
    {
     "ename": "NameError",
     "evalue": "name '__file__' is not defined",
     "output_type": "error",
     "traceback": [
      "\u001b[31m---------------------------------------------------------------------------\u001b[39m",
      "\u001b[31mNameError\u001b[39m                                 Traceback (most recent call last)",
      "\u001b[36mCell\u001b[39m\u001b[36m \u001b[39m\u001b[32mIn[4]\u001b[39m\u001b[32m, line 1\u001b[39m\n\u001b[32m----> \u001b[39m\u001b[32m1\u001b[39m conf_dir = os.path.dirname(os.path.abspath(\u001b[34;43m__file__\u001b[39;49m))\n\u001b[32m      2\u001b[39m config_path = os.path.join(conf_dir, \u001b[33m\"\u001b[39m\u001b[33m..\u001b[39m\u001b[33m\"\u001b[39m, \u001b[33m\"\u001b[39m\u001b[33mcrypto_config.conf\u001b[39m\u001b[33m\"\u001b[39m)\n\u001b[32m      5\u001b[39m config_local = RawConfigParser()\n",
      "\u001b[31mNameError\u001b[39m: name '__file__' is not defined"
     ]
    }
   ],
   "source": [
    "conf_dir = os.path.dirname(os.path.abspath(__file__))\n",
    "config_path = os.path.join(conf_dir, \"..\", \"crypto_config.conf\")\n",
    "\n",
    "\n",
    "config_local = RawConfigParser()\n",
    "config_local.read(config_path)"
   ]
  },
  {
   "cell_type": "code",
   "execution_count": null,
   "id": "a52afdaf-942f-41bc-ad25-c0b8cd651eac",
   "metadata": {},
   "outputs": [],
   "source": [
    "# Cria o cliente para o MongoDB\n",
    "client = MongoClient(config_local['MongoDB']['url'])"
   ]
  },
  {
   "cell_type": "code",
   "execution_count": null,
   "id": "586152ca",
   "metadata": {},
   "outputs": [],
   "source": [
    "# Usa o cliente para conectar ao banco de dados do MongoDB\n",
    "db = client[config_local['MongoDB']['database']]"
   ]
  },
  {
   "cell_type": "code",
   "execution_count": null,
   "id": "ed165dca",
   "metadata": {},
   "outputs": [],
   "source": [
    "# Acessa a coleção (que é como uma tabela em um banco de dados relacional)\n",
    "collection = db[config_local['MongoDB']['collection']]"
   ]
  },
  {
   "cell_type": "code",
   "execution_count": null,
   "id": "e8dfeeb7",
   "metadata": {},
   "outputs": [],
   "source": [
    "# Cria a lista de controle\n",
    "data_list = []"
   ]
  },
  {
   "cell_type": "code",
   "execution_count": null,
   "id": "6c98afe0",
   "metadata": {},
   "outputs": [],
   "source": [
    "# Define a query\n",
    "query = {\"timestamp\": 1, \"data.name\": 1, \"data.priceUsd\": 1, \"_id\": 0}"
   ]
  },
  {
   "cell_type": "code",
   "execution_count": null,
   "id": "6154a492",
   "metadata": {},
   "outputs": [],
   "source": [
    "# Executa a query para retornar os documentos armazenados no MongoDB\n",
    "documents = collection.find({}, query)"
   ]
  },
  {
   "cell_type": "code",
   "execution_count": null,
   "id": "72dbe40e-4e58-4582-997a-c73829fe7e5e",
   "metadata": {},
   "outputs": [],
   "source": [
    "# Loop por cada documento para retornar os dados de interesse\n",
    "for doc in documents:\n",
    "    \n",
    "    # Obtém o timestamp\n",
    "    timestamp = doc.get(\"timestamp\")\n",
    "    \n",
    "    # Se o documento tiver dados\n",
    "    if \"data\" in doc:\n",
    "\n",
    "        # Loop pelos itens\n",
    "        for data_item in doc[\"data\"]:\n",
    "          \n",
    "            # Adiciona os itens à lista de controle\n",
    "            data_list.append({\"timestamp\": timestamp, \n",
    "                              \"name\": data_item[\"name\"],\n",
    "                              \"price\": round(float(data_item[\"priceUsd\"]), 3)})"
   ]
  },
  {
   "cell_type": "code",
   "execution_count": null,
   "id": "932e09ce",
   "metadata": {},
   "outputs": [],
   "source": [
    "# Converte a lista em dataframe\n",
    "df = pd.DataFrame(data_list)"
   ]
  },
  {
   "cell_type": "code",
   "execution_count": null,
   "id": "c26fdb5b",
   "metadata": {},
   "outputs": [],
   "source": [
    "# Visualiza as primeiras linhas\n",
    "df.head(10)"
   ]
  },
  {
   "cell_type": "code",
   "execution_count": null,
   "id": "ded072e9-7d20-4d38-a8a8-c2504eb9f6f4",
   "metadata": {},
   "outputs": [],
   "source": [
    "# Obtém os nomes únicos das criptomoedas no DataFrame\n",
    "currencies = df['name'].unique()\n",
    "\n",
    "# Itera sobre cada criptomoeda\n",
    "for currency in currencies:\n",
    "    \n",
    "    # Filtra o DataFrame para incluir apenas os dados da criptomoeda atual\n",
    "    df1 = df[df['name'] == currency].copy()\n",
    "    \n",
    "    # Converte a coluna 'timestamp' para o formato de datetime\n",
    "    df1['timestamp'] = pd.to_datetime(df1['timestamp'])\n",
    "    \n",
    "    # Formata a coluna 'timestamp' para exibir apenas data e hora no formato desejado\n",
    "    df1['time'] = df1['timestamp'].dt.strftime('%Y-%m-%d %H:%M')  \n",
    "    \n",
    "    # Cria uma nova figura para o gráfico, definindo seu tamanho\n",
    "    plt.figure(figsize = (20, 6))\n",
    "    \n",
    "    # Gera um gráfico de linha para a criptomoeda atual, mostrando o preço ao longo do tempo\n",
    "    sns.lineplot(data = df1, x = 'time', y = 'price', marker = 'o', label = currency, errorbar = None)\n",
    "    \n",
    "    # Adiciona uma legenda com título ao gráfico\n",
    "    plt.legend(title = \"Cotação de Criptomoedas\")\n",
    "    \n",
    "    # Rotaciona os rótulos do eixo x para melhorar a visualização\n",
    "    plt.xticks(rotation = 45, ha = 'right')\n",
    "    \n",
    "    # Define o rótulo do eixo x como 'Timestamp'\n",
    "    plt.xlabel('Timestamp')\n",
    "    \n",
    "    # Define o rótulo do eixo y como 'Cotação (USD)'\n",
    "    plt.ylabel('Cotação (USD)')\n",
    "    \n",
    "    # Define o título do gráfico\n",
    "    plt.title('Cotação da Criptomoeda ao Longo do Tempo')\n",
    "    \n",
    "    # Exibe o gráfico\n",
    "    plt.show()"
   ]
  },
  {
   "cell_type": "markdown",
   "id": "0736c1fc",
   "metadata": {},
   "source": [
    "Agora vamos construir uma web app com Streamlit."
   ]
  },
  {
   "cell_type": "code",
   "execution_count": null,
   "id": "b0aac5fd",
   "metadata": {},
   "outputs": [],
   "source": [
    "%reload_ext watermark\n",
    "%watermark -a \"Data Science Academy\""
   ]
  },
  {
   "cell_type": "code",
   "execution_count": null,
   "id": "9d2bbc92",
   "metadata": {},
   "outputs": [],
   "source": [
    "#%watermark -v -m"
   ]
  },
  {
   "cell_type": "code",
   "execution_count": null,
   "id": "7f82e96c",
   "metadata": {},
   "outputs": [],
   "source": [
    "#%watermark --iversions"
   ]
  },
  {
   "cell_type": "markdown",
   "id": "d94b984d",
   "metadata": {},
   "source": [
    "# Fim"
   ]
  }
 ],
 "metadata": {
  "kernelspec": {
   "display_name": "unifor-projeto-py3.12",
   "language": "python",
   "name": "python3"
  },
  "language_info": {
   "codemirror_mode": {
    "name": "ipython",
    "version": 3
   },
   "file_extension": ".py",
   "mimetype": "text/x-python",
   "name": "python",
   "nbconvert_exporter": "python",
   "pygments_lexer": "ipython3",
   "version": "3.12.10"
  }
 },
 "nbformat": 4,
 "nbformat_minor": 5
}
